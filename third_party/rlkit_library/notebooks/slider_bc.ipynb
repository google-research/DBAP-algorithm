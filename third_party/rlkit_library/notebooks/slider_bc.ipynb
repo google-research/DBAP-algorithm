{
 "metadata": {
  "language_info": {
   "codemirror_mode": {
    "name": "ipython",
    "version": 3
   },
   "file_extension": ".py",
   "mimetype": "text/x-python",
   "name": "python",
   "nbconvert_exporter": "python",
   "pygments_lexer": "ipython3",
   "version": "3.7.7-final"
  },
  "orig_nbformat": 2,
  "kernelspec": {
   "name": "Python 3.7.7 64-bit ('softlearning2': conda)",
   "display_name": "Python 3.7.7 64-bit ('softlearning2': conda)",
   "metadata": {
    "interpreter": {
     "hash": "344694b620c1798f7363a6cc6c0c85978ab07f56ece39732dd6dfe3d19e58951"
    }
   }
  }
 },
 "nbformat": 4,
 "nbformat_minor": 2,
 "cells": [
  {
   "cell_type": "code",
   "execution_count": 70,
   "metadata": {},
   "outputs": [],
   "source": [
    "import pickle\n",
    "import pprint\n",
    "import matplotlib.pyplot as plt\n",
    "import numpy as np\n",
    "import os\n",
    "\n",
    "sys.path.append(\"..\")\n",
    "from demo_2_awac import och_2_awac\n",
    "\n",
    "BASE_PATH = '/usr/local/google/home/bkinman/proj/rpl_reset_free/20201020_slider_open_close/'\n",
    "\n",
    "OPEN_SLIDER_FILE = os.path.join(BASE_PATH, 'open_slider_20x_0p15_noise.pkl')\n",
    "CLOSE_SLIDER_FILE = os.path.join(BASE_PATH, 'close_slider_20x_0p15_noise.pkl')\n",
    "GOTO_SLIDER_FILE = os.path.join(BASE_PATH, 'goto_near_slider_20x_0p15_noise.pkl')\n",
    "GOTO_HINGE_FILE = os.path.join(BASE_PATH, 'goto_near_hinge_20x_0p15_noise.pkl')\n",
    "\n",
    "def awac_dict_from_pkl(pkl_path):\n",
    "    \"\"\" Converts demonstration vector pickle to awac dict. \"\"\"\n",
    "    full_awac_dict = None\n",
    "    data = pickle.load(open(pkl_path,'rb'))\n",
    "    awac_formatted_list = och_2_awac(data)\n",
    "    return awac_formatted_list\n",
    "\n",
    "def bc_make_goal(awac_dict):\n",
    "    \"\"\"Set the goal vector for every step in a each rollout to be the final state of the trajectory.\"\"\"\n",
    "    for demo in awac_dict:\n",
    "        last_obs = demo['observations'][-1][:25]\n",
    "        last_obs = np.ones(last_obs.shape)\n",
    "        demo['observations'][:,25:] = last_obs\n"
   ]
  },
  {
   "cell_type": "code",
   "execution_count": 71,
   "metadata": {
    "tags": []
   },
   "outputs": [
    {
     "output_type": "stream",
     "name": "stdout",
     "text": [
      "bc_num_pretrain_steps should be 6000 steps\nq_num_pretrain2_steps should be 12000 steps\n"
     ]
    }
   ],
   "source": [
    "# Make behavior cloning demo.\n",
    "slider_demos_awac = awac_dict_from_pkl(GOTO_SLIDER_FILE)\n",
    "bc_make_goal(slider_demos_awac)\n",
    "hinge_demos_awac = awac_dict_from_pkl(GOTO_HINGE_FILE)\n",
    "bc_make_goal(hinge_demos_awac)\n",
    "\n",
    "combined_demos_awac = slider_demos_awac + hinge_demos_awac\n",
    "\n",
    "lens = sum(len(a['observations']) for a in combined_demos_awac)\n",
    "print(f'bc_num_pretrain_steps should be {(int(lens/1000)+1)*1500} steps')\n",
    "print(f'q_num_pretrain2_steps should be {(int(lens/1000)+1)*3000} steps')\n",
    "\n",
    "pickle.dump(combined_demos_awac, open(os.path.join(BASE_PATH, 'goto_bc_combined.pkl') , 'wb'))"
   ]
  },
  {
   "cell_type": "code",
   "execution_count": null,
   "metadata": {},
   "outputs": [],
   "source": [
    "# Make behavior cloning demo for just "
   ]
  }
 ]
}