{
 "cells": [
  {
   "cell_type": "code",
   "execution_count": 2,
   "metadata": {},
   "outputs": [
    {
     "name": "stdout",
     "output_type": "stream",
     "text": [
      "diagnostics_itr_0.pkl\n",
      "diagnostics_itr_5.pkl\n",
      "diagnostics_itr_10.pkl\n",
      "diagnostics_itr_15.pkl\n",
      "diagnostics_itr_0.pkl\n",
      "diagnostics_itr_5.pkl\n",
      "diagnostics_itr_10.pkl\n",
      "diagnostics_itr_15.pkl\n",
      "diagnostics_itr_0.pkl\n",
      "diagnostics_itr_5.pkl\n",
      "diagnostics_itr_10.pkl\n",
      "diagnostics_itr_15.pkl\n",
      "diagnostics_itr_20.pkl\n",
      "diagnostics_itr_25.pkl\n",
      "diagnostics_itr_30.pkl\n",
      "diagnostics_itr_35.pkl\n",
      "diagnostics_itr_40.pkl\n",
      "diagnostics_itr_45.pkl\n",
      "diagnostics_itr_0.pkl\n",
      "diagnostics_itr_5.pkl\n",
      "diagnostics_itr_10.pkl\n",
      "diagnostics_itr_0.pkl\n",
      "diagnostics_itr_5.pkl\n",
      "diagnostics_itr_10.pkl\n",
      "diagnostics_itr_15.pkl\n",
      "diagnostics_itr_20.pkl\n",
      "18\n",
      "8\n"
     ]
    }
   ],
   "source": [
    "import glob\n",
    "import matplotlib.pyplot as plt\n",
    "import numpy as np\n",
    "import os\n",
    "import pickle\n",
    "import sys\n",
    "import copy\n",
    "import matplotlib\n",
    "%matplotlib inline\n",
    "sys.path.append(\"..\")\n",
    "\n",
    "# Directories for our method\n",
    "load_directories1 = ['/usr/local/google/home/abhishekunique/sim_franka/simplified_awac/retrain_3element_hardware_resetevery10_graphserch_RESTARTED/restarted-0/restarted-0/06-08-dev-example-awac-script/06-08-dev-example-awac-script_2021_06_08_16_05_13_0000--s-97874/',\n",
    "                  '/usr/local/google/home/abhishekunique/sim_franka/simplified_awac/startedfrom34_graphsearch_retrained_hardware_3elements/restarted-0/restarted-0/06-09-dev-example-awac-script/06-09-dev-example-awac-script_2021_06_09_11_34_38_0000--s-67388/',\n",
    "                  '/usr/local/google/home/abhishekunique/sim_franka/simplified_awac/startedfrom64_graphsearch_retrained_hardware_3elements/restarted-0/restarted-0/06-09-dev-example-awac-script/06-09-dev-example-awac-script_2021_06_09_16_06_42_0000--s-85048/']\n",
    "\n",
    "load_directories2 = ['/usr/local/google/home/abhishekunique/sim_franka/simplified_awac/randomtaskcommand_pretrainlowlevel_3elems_hardware/restarted-0/restarted-0/06-10-dev-example-awac-script/06-10-dev-example-awac-script_2021_06_10_11_02_06_0000--s-95081/',\n",
    "                  '/usr/local/google/home/abhishekunique/sim_franka/simplified_awac/randomtaskcommand_pretrainlowlevel_3elems_hardware_restarted26/restarted-0/restarted-0/06-10-dev-example-awac-script/06-10-dev-example-awac-script_2021_06_10_15_39_33_0000--s-25922',\n",
    "#                   '/usr/local/google/home/abhishekunique/sim_franka/simplified_awac/startedfrom64_graphsearch_retrained_hardware_3elements/restarted-0/restarted-0/06-09-dev-example-awac-script/06-09-dev-example-awac-script_2021_06_09_16_06_42_0000--s-85048/'\n",
    "                   ]\n",
    "\n",
    "import os\n",
    "from pathlib import Path\n",
    "paths1 = []\n",
    "\n",
    "paths2 = []\n",
    "\n",
    "for load_directory in load_directories1:\n",
    "    files = sorted(Path(load_directory).iterdir(), key=os.path.getmtime)\n",
    "    for f in files: \n",
    "        if 'diagnostic' not in f.name or 'overall' in f.name:\n",
    "            continue\n",
    "        print(f.name)\n",
    "        path = pickle.load(open(f, 'rb'))\n",
    "        paths1.append(path)\n",
    "        \n",
    "for load_directory in load_directories2:\n",
    "    files = sorted(Path(load_directory).iterdir(), key=os.path.getmtime)\n",
    "    for f in files: \n",
    "        if 'diagnostic' not in f.name or 'overall' in f.name:\n",
    "            continue\n",
    "        print(f.name)\n",
    "        path = pickle.load(open(f, 'rb'))\n",
    "        paths2.append(path)\n",
    "print(len(paths1))\n",
    "print(len(paths2))"
   ]
  },
  {
   "cell_type": "code",
   "execution_count": 6,
   "metadata": {},
   "outputs": [
    {
     "name": "stdout",
     "output_type": "stream",
     "text": [
      "PATH NUMBER 0\n",
      "PATH NUMBER 1\n",
      "PATH NUMBER 2\n",
      "PATH NUMBER 3\n",
      "PATH NUMBER 4\n",
      "PATH NUMBER 5\n",
      "PATH NUMBER 6\n",
      "PATH NUMBER 7\n",
      "PATH NUMBER 8\n",
      "PATH NUMBER 9\n",
      "PATH NUMBER 10\n",
      "PATH NUMBER 11\n",
      "PATH NUMBER 12\n",
      "PATH NUMBER 13\n",
      "PATH NUMBER 14\n",
      "PATH NUMBER 15\n",
      "PATH NUMBER 16\n",
      "PATH NUMBER 17\n"
     ]
    }
   ],
   "source": [
    "all_returns = []\n",
    "all_completions = []\n",
    "all_sparse = []\n",
    "for pitr, p in enumerate(paths1):\n",
    "    print(\"PATH NUMBER %d\"%pitr)\n",
    "    cumulative_paths = []\n",
    "    cumulative_completed = []\n",
    "    cumulative_sparse = []\n",
    "    for i in range(len(p)):\n",
    "        for j in range(len(p)):\n",
    "            if p[i][j]:\n",
    "                cumulative_paths += p[i][j]\n",
    "                for pathitr in p[i][j]:\n",
    "                    completed_arr = []\n",
    "                    for k in range(len(pathitr['env_infos'])):\n",
    "                        completed_arr.append(pathitr['env_infos'][k]['obs/completion'])\n",
    "                    completed_arr = np.array(completed_arr)\n",
    "                    cumulative_completed.append(completed_arr.max())\n",
    "                    cumulative_sparse.append(completed_arr.sum())\n",
    "    cumulative_return = np.array([currp['rewards'].sum() for currp in cumulative_paths])\n",
    "    cumulative_completion_metric = np.array(cumulative_completed)\n",
    "    cumulative_sparse_metric = np.array(cumulative_sparse)\n",
    "    \n",
    "    avg_return = np.mean(cumulative_return)\n",
    "    avg_completion = np.mean(cumulative_completion_metric)\n",
    "    avg_sparse = np.mean(cumulative_sparse_metric)\n",
    "    \n",
    "    all_returns.append(avg_return)\n",
    "    all_completions.append(avg_completion)\n",
    "    all_sparse.append(avg_sparse)"
   ]
  },
  {
   "cell_type": "code",
   "execution_count": 7,
   "metadata": {},
   "outputs": [
    {
     "name": "stdout",
     "output_type": "stream",
     "text": [
      "PATH NUMBER 0\n",
      "PATH NUMBER 1\n",
      "PATH NUMBER 2\n",
      "PATH NUMBER 3\n",
      "PATH NUMBER 4\n",
      "PATH NUMBER 5\n",
      "PATH NUMBER 6\n",
      "PATH NUMBER 7\n"
     ]
    }
   ],
   "source": [
    "all_returns1 = []\n",
    "all_completions1 = []\n",
    "all_sparse1 = []\n",
    "for pitr, p in enumerate(paths2):\n",
    "    print(\"PATH NUMBER %d\"%pitr)\n",
    "    cumulative_paths = []\n",
    "    cumulative_completed = []\n",
    "    cumulative_sparse = []\n",
    "    for i in range(len(p)):\n",
    "        for j in range(len(p)):\n",
    "            if p[i][j]:\n",
    "                cumulative_paths += p[i][j]\n",
    "                for pathitr in p[i][j]:\n",
    "                    completed_arr = []\n",
    "                    for k in range(len(pathitr['env_infos'])):\n",
    "                        completed_arr.append(pathitr['env_infos'][k]['obs/completion'])\n",
    "                    completed_arr = np.array(completed_arr)\n",
    "                    cumulative_completed.append(completed_arr.max())\n",
    "                    cumulative_sparse.append(completed_arr.sum())\n",
    "    cumulative_return = np.array([currp['rewards'].sum() for currp in cumulative_paths])\n",
    "    cumulative_completion_metric = np.array(cumulative_completed)\n",
    "    cumulative_sparse_metric = np.array(cumulative_sparse)\n",
    "    \n",
    "    avg_return = np.mean(cumulative_return)\n",
    "    avg_completion = np.mean(cumulative_completion_metric)\n",
    "    avg_sparse = np.mean(cumulative_sparse_metric)\n",
    "    \n",
    "    all_returns1.append(avg_return)\n",
    "    all_completions1.append(avg_completion)\n",
    "    all_sparse1.append(avg_sparse)"
   ]
  },
  {
   "cell_type": "code",
   "execution_count": 8,
   "metadata": {},
   "outputs": [
    {
     "data": {
      "text/plain": [
       "[<matplotlib.lines.Line2D at 0x7fb14823c810>]"
      ]
     },
     "execution_count": 8,
     "metadata": {},
     "output_type": "execute_result"
    },
    {
     "data": {
      "image/png": "[encoded data removed]",
      "text/plain": [
       "<Figure size 432x288 with 1 Axes>"
      ]
     },
     "metadata": {
      "needs_background": "light"
     },
     "output_type": "display_data"
    }
   ],
   "source": [
    "plt.plot(all_returns, color='r')\n",
    "plt.plot(all_returns1, color='b')"
   ]
  },
  {
   "cell_type": "code",
   "execution_count": 11,
   "metadata": {},
   "outputs": [
    {
     "data": {
      "text/plain": [
       "[<matplotlib.lines.Line2D at 0x7fb126c99bd0>]"
      ]
     },
     "execution_count": 11,
     "metadata": {},
     "output_type": "execute_result"
    },
    {
     "data": {
      "image/png": "[encoded data removed]",
      "text/plain": [
       "<Figure size 432x288 with 1 Axes>"
      ]
     },
     "metadata": {
      "needs_background": "light"
     },
     "output_type": "display_data"
    }
   ],
   "source": [
    "plt.plot(all_completions, color='r')\n",
    "plt.plot(all_completions1, color='b')"
   ]
  },
  {
   "cell_type": "code",
   "execution_count": 10,
   "metadata": {},
   "outputs": [
    {
     "data": {
      "text/plain": [
       "[<matplotlib.lines.Line2D at 0x7fb122764cd0>]"
      ]
     },
     "execution_count": 10,
     "metadata": {},
     "output_type": "execute_result"
    },
    {
     "data": {
      "image/png": "[encoded data removed]",
      "text/plain": [
       "<Figure size 432x288 with 1 Axes>"
      ]
     },
     "metadata": {
      "needs_background": "light"
     },
     "output_type": "display_data"
    }
   ],
   "source": [
    "plt.plot(all_sparse, color='r')\n",
    "plt.plot(all_sparse1, color='b')"
   ]
  },
  {
   "cell_type": "code",
   "execution_count": null,
   "metadata": {},
   "outputs": [],
   "source": [
    "list_awac = och_2_awac(dat)\n",
    "print(list_awac[0]['observations'].shape)\n",
    "curr_x = 0\n",
    "fig, ax = plt.subplots(3, 5, figsize=(20, 20))\n",
    "for p in list_awac:\n",
    "    for i in range(3):  \n",
    "        for j in range(5):\n",
    "            if i*5 + j == 13:\n",
    "                break\n",
    "            if i*5 +j == 1: \n",
    "                ax[i][j].plot(range(curr_x, curr_x + len(p['observations'])), p['observations'][:, i*5 + j])\n",
    "            else:\n",
    "                ax[i][j].plot(range(curr_x, curr_x + len(p['observations'])), p['observations'][:, i*5 + j])\n",
    "\n",
    "plt.show()"
   ]
  }
 ],
 "metadata": {
  "kernelspec": {
   "display_name": "Python 3",
   "language": "python",
   "name": "python3"
  },
  "language_info": {
   "codemirror_mode": {
    "name": "ipython",
    "version": 3
   },
   "file_extension": ".py",
   "mimetype": "text/x-python",
   "name": "python",
   "nbconvert_exporter": "python",
   "pygments_lexer": "ipython3",
   "version": "3.7.7"
  }
 },
 "nbformat": 4,
 "nbformat_minor": 2
}
